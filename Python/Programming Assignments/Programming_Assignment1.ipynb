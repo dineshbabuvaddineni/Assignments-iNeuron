{
 "cells": [
  {
   "cell_type": "markdown",
   "id": "3ff64c7a",
   "metadata": {},
   "source": [
    "## 1.\tWrite a Python program to print \"Hello Python\"?"
   ]
  },
  {
   "cell_type": "code",
   "execution_count": 1,
   "id": "9dbbd879",
   "metadata": {},
   "outputs": [
    {
     "name": "stdout",
     "output_type": "stream",
     "text": [
      "Hello Python\n"
     ]
    }
   ],
   "source": [
    "print(\"Hello Python\")"
   ]
  },
  {
   "cell_type": "markdown",
   "id": "8e48d3c1",
   "metadata": {},
   "source": [
    "## 2.\tWrite a Python program to do arithmetical operations addition and division.?"
   ]
  },
  {
   "cell_type": "code",
   "execution_count": 5,
   "id": "4494c0b7",
   "metadata": {},
   "outputs": [],
   "source": [
    "def arithmaticOperations(a,b):\n",
    "    \"\"\"Here the function takes two arguments as input values and performs and addition and division  \"\"\"\n",
    "    addition=a+b\n",
    "    division=a/b\n",
    "    print(\"Addition value of {0} and {1} is {2}\".format(a,b,addition))\n",
    "    print(\"Division value of {0} and {1} is {2}\".format(a,b,division))\n",
    "    "
   ]
  },
  {
   "cell_type": "code",
   "execution_count": 6,
   "id": "c1a6e8b1",
   "metadata": {},
   "outputs": [
    {
     "name": "stdout",
     "output_type": "stream",
     "text": [
      "Addition value of 10 and 20 is 30\n",
      "Division value of 10 and 20 is 0.5\n"
     ]
    }
   ],
   "source": [
    "arithmaticOperations(10,20)"
   ]
  },
  {
   "cell_type": "markdown",
   "id": "b75e9bbc",
   "metadata": {},
   "source": [
    "## 3. Write a Python program to find the area of a triangle?\n"
   ]
  },
  {
   "cell_type": "code",
   "execution_count": 25,
   "id": "3650407c",
   "metadata": {},
   "outputs": [
    {
     "name": "stdout",
     "output_type": "stream",
     "text": [
      "Area of the triangle is: 100.0\n"
     ]
    }
   ],
   "source": [
    "def areaOfTriangle(b,h):\n",
    "    area= 0.5*b*h\n",
    "    return area\n",
    "base=int(input(\"Enter the value of base:\"))\n",
    "height=int(intput(\"Enter the value of height:\"))\n",
    "a=areaOfTriangle(base,height)\n",
    "print(\"Area of the triangle is:\",a)"
   ]
  },
  {
   "cell_type": "markdown",
   "id": "205856ea",
   "metadata": {},
   "source": [
    "## 4.\tWrite a Python program to swap two variables?\n",
    "\n",
    "\n"
   ]
  },
  {
   "cell_type": "code",
   "execution_count": 31,
   "id": "c256b0be",
   "metadata": {},
   "outputs": [],
   "source": [
    "def swap(a,b):\n",
    "    \"\"\"Function takes two argument values and swaps their values\"\"\"\n",
    "    temp=a\n",
    "    a=b\n",
    "    b=temp\n",
    "    print(\"The value of a and b after swapping\",a,b)\n"
   ]
  },
  {
   "cell_type": "code",
   "execution_count": 35,
   "id": "700abc5d",
   "metadata": {},
   "outputs": [
    {
     "name": "stdout",
     "output_type": "stream",
     "text": [
      "The values of a and b after swapping 20 10\n"
     ]
    }
   ],
   "source": [
    "swap(10,20)"
   ]
  },
  {
   "cell_type": "markdown",
   "id": "f864c153",
   "metadata": {},
   "source": [
    "## 5.Write a Python program to generate a random number"
   ]
  },
  {
   "cell_type": "code",
   "execution_count": 39,
   "id": "ce010e29",
   "metadata": {},
   "outputs": [
    {
     "name": "stdout",
     "output_type": "stream",
     "text": [
      "2\n"
     ]
    }
   ],
   "source": [
    "import random\n",
    "list1=[1,2,3,4,5]\n",
    "a=random.choice(list1)\n",
    "print(a)"
   ]
  },
  {
   "cell_type": "code",
   "execution_count": 40,
   "id": "656794a1",
   "metadata": {},
   "outputs": [
    {
     "name": "stdout",
     "output_type": "stream",
     "text": [
      "0.613925278563246\n"
     ]
    }
   ],
   "source": [
    "print(random.random())"
   ]
  }
 ],
 "metadata": {
  "kernelspec": {
   "display_name": "Python 3",
   "language": "python",
   "name": "python3"
  },
  "language_info": {
   "codemirror_mode": {
    "name": "ipython",
    "version": 3
   },
   "file_extension": ".py",
   "mimetype": "text/x-python",
   "name": "python",
   "nbconvert_exporter": "python",
   "pygments_lexer": "ipython3",
   "version": "3.8.8"
  }
 },
 "nbformat": 4,
 "nbformat_minor": 5
}
