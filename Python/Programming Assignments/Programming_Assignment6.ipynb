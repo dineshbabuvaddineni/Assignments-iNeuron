{
 "cells": [
  {
   "cell_type": "markdown",
   "id": "d8675ca9",
   "metadata": {},
   "source": [
    "### 1. Write a Python Program to Display Fibonacci Sequence Using Recursion?"
   ]
  },
  {
   "cell_type": "code",
   "execution_count": 8,
   "id": "ffad5275",
   "metadata": {},
   "outputs": [
    {
     "name": "stdout",
     "output_type": "stream",
     "text": [
      "Enter number of iterations:5\n",
      "Fibonacci series is:\n",
      "0\n",
      "1\n",
      "1\n",
      "2\n",
      "3\n"
     ]
    }
   ],
   "source": [
    "def fibonacci_sequence(n):\n",
    "    \"This function takes the n as input and gives fibonacci sequence\"\n",
    "    try:\n",
    "        if n==0:\n",
    "            return 0\n",
    "        elif n==1:\n",
    "            return 1\n",
    "        else:\n",
    "            return (fibonacci_sequence(n-1)+fibonacci_sequence(n-2))\n",
    "    except Exception as e:\n",
    "        print(e)\n",
    "n=int(input(\"Enter number of iterations:\"))\n",
    "if (n<=0):\n",
    "    print(\"Enter a positive number\")\n",
    "else:\n",
    "    print(\"Fibonacci series is:\")\n",
    "    for i in range(n):\n",
    "        print(fibonacci_sequence(i))    "
   ]
  },
  {
   "cell_type": "markdown",
   "id": "917127db",
   "metadata": {},
   "source": [
    "### 2. Write a Python Program to Find Factorial of Number Using Recursion?"
   ]
  },
  {
   "cell_type": "code",
   "execution_count": 9,
   "id": "690d566d",
   "metadata": {},
   "outputs": [
    {
     "name": "stdout",
     "output_type": "stream",
     "text": [
      "Factorial of number using recursion is:24\n"
     ]
    }
   ],
   "source": [
    "def factorial_recursion(n):\n",
    "    \"\"\"This function takes n as input and returns the factorial of a number\"\"\"\n",
    "    fact=1\n",
    "    if n==0 or n==1:\n",
    "        return fact\n",
    "    else:\n",
    "        fact=n*factorial_recursion(n-1)\n",
    "        return fact\n",
    "factorial=factorial_recursion(4)\n",
    "print(f\"Factorial of number using recursion is:{factorial}\")\n",
    "\n"
   ]
  },
  {
   "cell_type": "markdown",
   "id": "422084a7",
   "metadata": {},
   "source": [
    "### 3. Write a Python Program to calculate your Body Mass Index?"
   ]
  },
  {
   "cell_type": "code",
   "execution_count": 23,
   "id": "36182711",
   "metadata": {},
   "outputs": [],
   "source": [
    "def BMI_calc(weight,height):\n",
    "    \"\"\"\n",
    "    This func takes weight in kgs and height in cms of a person as an arg and\n",
    "    returns BMI of that Person.\n",
    "    \"\"\"\n",
    "    bmi = float((weight/(height/100)**2))\n",
    "\n",
    "    if bmi < 18.5:\n",
    "        print(\"Your BMI is \", round(bmi,2), \" and you are underweight\")\n",
    "    elif bmi>= 25:\n",
    "        print(\"Your BMI is \", round(bmi,2), \" and you have over weight\")\n",
    "    else :\n",
    "        print(\"Your BMI is \", round(bmi,2), \" and you have healthy weight\")\n",
    "    "
   ]
  },
  {
   "cell_type": "code",
   "execution_count": 25,
   "id": "e2dbab80",
   "metadata": {},
   "outputs": [
    {
     "name": "stdout",
     "output_type": "stream",
     "text": [
      "Your BMI is  23.44  and you have healthy weight\n"
     ]
    }
   ],
   "source": [
    "BMI_calc(60,160)"
   ]
  },
  {
   "cell_type": "markdown",
   "id": "9bf020c1",
   "metadata": {},
   "source": [
    "### 4. Write a Python Program to calculate the natural logarithm of any number?"
   ]
  },
  {
   "cell_type": "code",
   "execution_count": null,
   "id": "0e0d0a4c",
   "metadata": {},
   "outputs": [],
   "source": [
    "from math import log\n",
    "def natural_log(n):\n",
    "    \"\"\"\n",
    "    This func takes a no. as an arg and returns \n",
    "    its natural log.\n",
    "    \"\"\"\n",
    "    return round(log(n),2)"
   ]
  },
  {
   "cell_type": "code",
   "execution_count": 29,
   "id": "71caa053",
   "metadata": {},
   "outputs": [
    {
     "data": {
      "text/plain": [
       "3.69"
      ]
     },
     "execution_count": 29,
     "metadata": {},
     "output_type": "execute_result"
    }
   ],
   "source": [
    "natural_log(40)"
   ]
  },
  {
   "cell_type": "markdown",
   "id": "09ff9111",
   "metadata": {},
   "source": [
    "### 5. Write a Python Program for cube sum of first n natural numbers?"
   ]
  },
  {
   "cell_type": "code",
   "execution_count": 30,
   "id": "0eb46d75",
   "metadata": {},
   "outputs": [],
   "source": [
    "def cube_sum(n):\n",
    "    print(\"entered natural number is: \", n)\n",
    "    sum = 0\n",
    "    for i in range(1, n+1):\n",
    "        cube_num = i**3\n",
    "        sum = sum + cube_num\n",
    "    print(\"sum cubes of first \", n ,\" natural numbers is: \")\n",
    "    return sum"
   ]
  },
  {
   "cell_type": "code",
   "execution_count": 32,
   "id": "80f65e39",
   "metadata": {},
   "outputs": [
    {
     "name": "stdout",
     "output_type": "stream",
     "text": [
      "entered natural number is:  10\n",
      "sum cubes of first  10  natural numbers is: \n"
     ]
    },
    {
     "data": {
      "text/plain": [
       "3025"
      ]
     },
     "execution_count": 32,
     "metadata": {},
     "output_type": "execute_result"
    }
   ],
   "source": [
    "cube_sum(10)"
   ]
  }
 ],
 "metadata": {
  "kernelspec": {
   "display_name": "Python 3 (ipykernel)",
   "language": "python",
   "name": "python3"
  },
  "language_info": {
   "codemirror_mode": {
    "name": "ipython",
    "version": 3
   },
   "file_extension": ".py",
   "mimetype": "text/x-python",
   "name": "python",
   "nbconvert_exporter": "python",
   "pygments_lexer": "ipython3",
   "version": "3.10.9"
  }
 },
 "nbformat": 4,
 "nbformat_minor": 5
}
