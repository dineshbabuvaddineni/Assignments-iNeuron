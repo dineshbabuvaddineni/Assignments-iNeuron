{
 "cells": [
  {
   "cell_type": "markdown",
   "id": "826dd3b1",
   "metadata": {},
   "source": [
    "# 1. Write a Python Program to Find the Factorial of a Number?\n"
   ]
  },
  {
   "cell_type": "code",
   "execution_count": 8,
   "id": "e825a776",
   "metadata": {},
   "outputs": [
    {
     "name": "stdout",
     "output_type": "stream",
     "text": [
      "Factorial of number is: 120\n"
     ]
    }
   ],
   "source": [
    "def factorial(n):\n",
    "    try:\n",
    "        fact=1\n",
    "        for i in range(1,n+1):\n",
    "            fact=fact*i\n",
    "        return fact\n",
    "    except Exception as e:\n",
    "        print(e)\n",
    "print(\"Factorial of number is:\",factorial(5))\n",
    "        "
   ]
  },
  {
   "cell_type": "markdown",
   "id": "5f8f23a0",
   "metadata": {},
   "source": [
    "# 2. Write a Python Program to Display the multiplication Table?"
   ]
  },
  {
   "cell_type": "code",
   "execution_count": 41,
   "id": "72464783",
   "metadata": {},
   "outputs": [
    {
     "name": "stdout",
     "output_type": "stream",
     "text": [
      "Enter the table to be generate:20\n",
      "20 X 1 = 20\n",
      "20 X 2 = 40\n",
      "20 X 3 = 60\n",
      "20 X 4 = 80\n",
      "20 X 5 = 100\n",
      "20 X 6 = 120\n",
      "20 X 7 = 140\n",
      "20 X 8 = 160\n",
      "20 X 9 = 180\n",
      "20 X 10 = 200\n"
     ]
    }
   ],
   "source": [
    "try:\n",
    "    n=int(input(\"Enter the table to be generate:\"))\n",
    "    for i in range(1,11):\n",
    "        res=n*i\n",
    "        print(f\"{n} X {i} = {res}\")\n",
    "except Exception as e:\n",
    "    print(\"Error Occured:  \",e)\n",
    "  "
   ]
  },
  {
   "cell_type": "markdown",
   "id": "74d648d4",
   "metadata": {},
   "source": [
    "# 3. Write a Python Program to Print the Fibonacci sequence?"
   ]
  },
  {
   "cell_type": "code",
   "execution_count": 35,
   "id": "ac9595cf",
   "metadata": {},
   "outputs": [
    {
     "name": "stdout",
     "output_type": "stream",
     "text": [
      "0 1 1 2 3 5 8 13 21 34 "
     ]
    }
   ],
   "source": [
    "def fibonacci(n):\n",
    "    try:\n",
    "        a=0\n",
    "        b=1\n",
    "        print(a,b,end=\" \")\n",
    "        for i in range(2,n):\n",
    "            c=a+b\n",
    "            a=b\n",
    "            b=c\n",
    "            print(c,end=\" \")\n",
    "    except Except as e:\n",
    "        print(e)\n",
    "fibonacci(10)\n",
    "\n",
    "    "
   ]
  },
  {
   "cell_type": "markdown",
   "id": "085c8270",
   "metadata": {},
   "source": [
    "# 4. Write a Python Program to Check Armstrong Number?"
   ]
  },
  {
   "cell_type": "code",
   "execution_count": 47,
   "id": "936626f0",
   "metadata": {},
   "outputs": [
    {
     "name": "stdout",
     "output_type": "stream",
     "text": [
      "Enter a number: 123\n",
      "123 is not a armstrong number\n"
     ]
    }
   ],
   "source": [
    "try:\n",
    "    num=int(input(\"Enter a number: \"))\n",
    "    temp=num\n",
    "    sum=0\n",
    "    while temp>0:\n",
    "        digit=temp%10\n",
    "        sum=sum+digit**3\n",
    "        temp=temp/10\n",
    "    if num==sum:\n",
    "        print(f\"{num} number is a armstrong number\")\n",
    "    else:\n",
    "        print(f\"{num} is not a armstrong number\")\n",
    "exce Exception as e:\n",
    "    print(\"Error oocured\",e)\n",
    "    "
   ]
  },
  {
   "cell_type": "markdown",
   "id": "fdf76c2a",
   "metadata": {},
   "source": [
    "# 5.Write a Python Program to Find Armstrong Number in an Interval?"
   ]
  },
  {
   "cell_type": "code",
   "execution_count": 62,
   "id": "b653580e",
   "metadata": {},
   "outputs": [
    {
     "name": "stdout",
     "output_type": "stream",
     "text": [
      "Enter the lower limit value:1\n",
      "Enter the upper limit value:30\n",
      "1 number is a armstrong number\n",
      "2 number is a armstrong number\n",
      "3 number is a armstrong number\n",
      "4 number is a armstrong number\n",
      "5 number is a armstrong number\n",
      "6 number is a armstrong number\n",
      "7 number is a armstrong number\n",
      "8 number is a armstrong number\n",
      "9 number is a armstrong number\n",
      "10 is not a armstrong number\n",
      "11 is not a armstrong number\n",
      "12 is not a armstrong number\n",
      "13 is not a armstrong number\n",
      "14 is not a armstrong number\n",
      "15 is not a armstrong number\n",
      "16 is not a armstrong number\n",
      "17 is not a armstrong number\n",
      "18 is not a armstrong number\n",
      "19 is not a armstrong number\n",
      "20 is not a armstrong number\n",
      "21 is not a armstrong number\n",
      "22 is not a armstrong number\n",
      "23 is not a armstrong number\n",
      "24 is not a armstrong number\n",
      "25 is not a armstrong number\n",
      "26 is not a armstrong number\n",
      "27 is not a armstrong number\n",
      "28 is not a armstrong number\n",
      "29 is not a armstrong number\n"
     ]
    }
   ],
   "source": [
    "try:\n",
    "    lower=int(input(\"Enter the lower limit value:\"))\n",
    "    upper=int(input(\"Enter the upper limit value:\"))\n",
    "    for num in range(lower,upper):\n",
    "        order=len(str(num))\n",
    "        sum=0\n",
    "        temp=num\n",
    "        while temp>0:\n",
    "            digit=temp%10\n",
    "            sum+=digit**order\n",
    "            temp=temp//10\n",
    "        if num==sum:\n",
    "            print(f\"{num} number is a armstrong number\")\n",
    "        else:\n",
    "            print(f\"{num} is not a armstrong number\")\n",
    "except Exception as e:\n",
    "    print(\"Error occured! Enter integer value\",e)"
   ]
  },
  {
   "cell_type": "markdown",
   "id": "1238d635",
   "metadata": {},
   "source": [
    "# 6. Write a Python Program to Find the Sum of Natural Numbers?"
   ]
  },
  {
   "cell_type": "code",
   "execution_count": 71,
   "id": "048c0bb3",
   "metadata": {},
   "outputs": [
    {
     "name": "stdout",
     "output_type": "stream",
     "text": [
      "Enter the value of n: 10\n",
      "55\n"
     ]
    }
   ],
   "source": [
    "try:\n",
    "    n=int(input(\"Enter the value of n: \"))\n",
    "    sum=0\n",
    "    for i in range(1,n+1):\n",
    "        sum=sum+i\n",
    "    print(sum)\n",
    "except Exception as e:\n",
    "    print(e)"
   ]
  },
  {
   "cell_type": "code",
   "execution_count": null,
   "id": "3598edf8",
   "metadata": {},
   "outputs": [],
   "source": []
  }
 ],
 "metadata": {
  "kernelspec": {
   "display_name": "Python 3",
   "language": "python",
   "name": "python3"
  },
  "language_info": {
   "codemirror_mode": {
    "name": "ipython",
    "version": 3
   },
   "file_extension": ".py",
   "mimetype": "text/x-python",
   "name": "python",
   "nbconvert_exporter": "python",
   "pygments_lexer": "ipython3",
   "version": "3.8.8"
  }
 },
 "nbformat": 4,
 "nbformat_minor": 5
}
