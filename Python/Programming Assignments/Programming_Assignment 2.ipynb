{
 "cells": [
  {
   "cell_type": "markdown",
   "id": "c018fd0a",
   "metadata": {},
   "source": [
    "## 1. Write a Python program to convert kilometers to miles?"
   ]
  },
  {
   "cell_type": "code",
   "execution_count": 18,
   "id": "3da4b8d9",
   "metadata": {},
   "outputs": [],
   "source": [
    "def kmtomiles(kms):\n",
    "    \"\"\"Here function takes input as kilometres and converts into miles\"\"\"\n",
    "    miles=kms*0.62137\n",
    "    \"Retrn the miles\"\n",
    "    return miles  "
   ]
  },
  {
   "cell_type": "code",
   "execution_count": 5,
   "id": "15306813",
   "metadata": {},
   "outputs": [
    {
     "name": "stdout",
     "output_type": "stream",
     "text": [
      "Enter no of kilometers:10\n",
      "10 kms is equal to 6.213699999999999 miles\n"
     ]
    }
   ],
   "source": [
    "#Read no of kilometeres\n",
    "no_of_kms=int(input(\"Enter no of kilometers:\"))\n",
    "\n",
    "#Calling the function\n",
    "a=km_to_miles(no_of_kms)\n",
    "\n",
    "print(f\"{no_of_kms} kms is equal to {a} miles\")"
   ]
  },
  {
   "cell_type": "markdown",
   "id": "acf818d6",
   "metadata": {},
   "source": [
    "## 2. Write a Python program to convert Celsius to Fahrenheit?"
   ]
  },
  {
   "cell_type": "code",
   "execution_count": 14,
   "id": "5a4707fc",
   "metadata": {},
   "outputs": [],
   "source": [
    "def celsius_to_fahrenheit(n):\n",
    "    \"\"\"Here function takes  \"\"\"\n",
    "    f=n*1.8+32\n",
    "    return f"
   ]
  },
  {
   "cell_type": "code",
   "execution_count": 16,
   "id": "74563f49",
   "metadata": {},
   "outputs": [
    {
     "name": "stdout",
     "output_type": "stream",
     "text": [
      "Enter the value of celsius:50\n",
      "50C equal to 122.0F\n"
     ]
    }
   ],
   "source": [
    "ces=int(input(\"Enter the value of celsius:\"))\n",
    "fa=celsius_to_fahrenheit(ces)\n",
    "print(f\"{ces}C equal to {fa}F\")"
   ]
  },
  {
   "cell_type": "markdown",
   "id": "dd21ede0",
   "metadata": {},
   "source": [
    "## 3. Write a Python program to display calendar?"
   ]
  },
  {
   "cell_type": "code",
   "execution_count": 38,
   "id": "a463dc23",
   "metadata": {},
   "outputs": [
    {
     "name": "stdout",
     "output_type": "stream",
     "text": [
      "Enter a year:2022\n",
      "year 2022 calender is: \n",
      "\n",
      "                                   2022\n",
      "\n",
      "      January                   February                   March\n",
      "Mo Tu We Th Fr Sa Su      Mo Tu We Th Fr Sa Su      Mo Tu We Th Fr Sa Su\n",
      "                1  2          1  2  3  4  5  6          1  2  3  4  5  6\n",
      " 3  4  5  6  7  8  9       7  8  9 10 11 12 13       7  8  9 10 11 12 13\n",
      "10 11 12 13 14 15 16      14 15 16 17 18 19 20      14 15 16 17 18 19 20\n",
      "17 18 19 20 21 22 23      21 22 23 24 25 26 27      21 22 23 24 25 26 27\n",
      "24 25 26 27 28 29 30      28                        28 29 30 31\n",
      "31\n",
      "\n",
      "       April                      May                       June\n",
      "Mo Tu We Th Fr Sa Su      Mo Tu We Th Fr Sa Su      Mo Tu We Th Fr Sa Su\n",
      "             1  2  3                         1             1  2  3  4  5\n",
      " 4  5  6  7  8  9 10       2  3  4  5  6  7  8       6  7  8  9 10 11 12\n",
      "11 12 13 14 15 16 17       9 10 11 12 13 14 15      13 14 15 16 17 18 19\n",
      "18 19 20 21 22 23 24      16 17 18 19 20 21 22      20 21 22 23 24 25 26\n",
      "25 26 27 28 29 30         23 24 25 26 27 28 29      27 28 29 30\n",
      "                          30 31\n",
      "\n",
      "        July                     August                  September\n",
      "Mo Tu We Th Fr Sa Su      Mo Tu We Th Fr Sa Su      Mo Tu We Th Fr Sa Su\n",
      "             1  2  3       1  2  3  4  5  6  7                1  2  3  4\n",
      " 4  5  6  7  8  9 10       8  9 10 11 12 13 14       5  6  7  8  9 10 11\n",
      "11 12 13 14 15 16 17      15 16 17 18 19 20 21      12 13 14 15 16 17 18\n",
      "18 19 20 21 22 23 24      22 23 24 25 26 27 28      19 20 21 22 23 24 25\n",
      "25 26 27 28 29 30 31      29 30 31                  26 27 28 29 30\n",
      "\n",
      "      October                   November                  December\n",
      "Mo Tu We Th Fr Sa Su      Mo Tu We Th Fr Sa Su      Mo Tu We Th Fr Sa Su\n",
      "                1  2          1  2  3  4  5  6                1  2  3  4\n",
      " 3  4  5  6  7  8  9       7  8  9 10 11 12 13       5  6  7  8  9 10 11\n",
      "10 11 12 13 14 15 16      14 15 16 17 18 19 20      12 13 14 15 16 17 18\n",
      "17 18 19 20 21 22 23      21 22 23 24 25 26 27      19 20 21 22 23 24 25\n",
      "24 25 26 27 28 29 30      28 29 30                  26 27 28 29 30 31\n",
      "31\n",
      "\n"
     ]
    }
   ],
   "source": [
    "import calendar\n",
    "def display_calendar(yy):\n",
    "    \"Here function takes year and displays the calendar of that particular year.\"\n",
    "    cal=calendar.calendar(yy)\n",
    "    return cal\n",
    "year=int(input(\"Enter a year:\"))\n",
    "calend=display_calendar(year)\n",
    "print(f\"year {year} calender is: \\n\\n {calend}\")\n"
   ]
  },
  {
   "cell_type": "markdown",
   "id": "e5f64c7d",
   "metadata": {},
   "source": [
    "## 4. Write a Python program to solve quadratic equation?"
   ]
  },
  {
   "cell_type": "code",
   "execution_count": 44,
   "id": "0d0fe129",
   "metadata": {},
   "outputs": [
    {
     "name": "stdout",
     "output_type": "stream",
     "text": [
      "Enter the value of a:10\n",
      "Enter the value of b:20\n",
      "Enter the value of c:30\n",
      "complex roots exists\n",
      "-1.0 +i 28.284271247461902\n",
      "-1.0 -i 28.284271247461902\n"
     ]
    }
   ],
   "source": [
    "import math\n",
    "def findRoots(a,b,c):\n",
    "    if a==0:\n",
    "        print(\"Enter the coefficients correctly.\")\n",
    "    else:\n",
    "        dis=b*b-4*a*c\n",
    "        sqrt_value=math.sqrt(abs(dis))\n",
    "    \n",
    "        if(dis>0):\n",
    "            print(\"Roots are real and different\")\n",
    "            print((-b+sqrt_value)/(2*a))\n",
    "            print((-b-sqrt_value)/(2*a))\n",
    "        elif dis==0:\n",
    "            print(\"Roots are real and same\")\n",
    "            print(-b/(2*a))\n",
    "        else:\n",
    "            print(\"complex roots exists\")\n",
    "            print(-b/(2*a),\"+i\",sqrt_value)\n",
    "            print(-b/(2*a),\"-i\",sqrt_value)\n",
    "x=int(input(\"Enter the value of a:\"))\n",
    "y=int(input(\"Enter the value of b:\"))\n",
    "z=int(input(\"Enter the value of c:\"))\n",
    "findRoots(x,y,z)\n",
    "    \n",
    "        \n",
    "        "
   ]
  },
  {
   "cell_type": "markdown",
   "id": "e7d7896b",
   "metadata": {},
   "source": [
    "## 5. Write a Python program to swap two variables without temp variable?"
   ]
  },
  {
   "cell_type": "code",
   "execution_count": 43,
   "id": "1d79c2cb",
   "metadata": {},
   "outputs": [
    {
     "name": "stdout",
     "output_type": "stream",
     "text": [
      "Enter the value of n1:10\n",
      "Enter the value of n2:20\n",
      "Before swapping the  values are n1:10 and n2:20\n",
      "After swapping the values of n1:20 and n2:10\n"
     ]
    }
   ],
   "source": [
    "def swap(num1,num2):\n",
    "    \"\"\"Here function takes two variables and swaps their values\"\"\"\n",
    "    num1=num1+num2          \n",
    "    num2=num1-num2\n",
    "    num1=num1-num2\n",
    "    print(f\"After swapping the values of n1:{num1} and n2:{num2}\")\n",
    "n1=int(input(\"Enter the value of n1:\"))\n",
    "n2=int(input(\"Enter the value of n2:\"))\n",
    "print(f\"Before swapping the  values are n1:{n1} and n2:{n2}\")\n",
    "swap(n1,n2)"
   ]
  }
 ],
 "metadata": {
  "kernelspec": {
   "display_name": "Python 3",
   "language": "python",
   "name": "python3"
  },
  "language_info": {
   "codemirror_mode": {
    "name": "ipython",
    "version": 3
   },
   "file_extension": ".py",
   "mimetype": "text/x-python",
   "name": "python",
   "nbconvert_exporter": "python",
   "pygments_lexer": "ipython3",
   "version": "3.8.8"
  }
 },
 "nbformat": 4,
 "nbformat_minor": 5
}
