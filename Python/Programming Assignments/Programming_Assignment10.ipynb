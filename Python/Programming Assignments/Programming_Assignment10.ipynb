{
 "cells": [
  {
   "cell_type": "markdown",
   "id": "ac0488b6",
   "metadata": {},
   "source": [
    "# 1. Write a Python program to find sum of elements in list?"
   ]
  },
  {
   "cell_type": "code",
   "execution_count": 1,
   "id": "7b0a99d6",
   "metadata": {},
   "outputs": [
    {
     "name": "stdout",
     "output_type": "stream",
     "text": [
      "565\n"
     ]
    }
   ],
   "source": [
    "list1=[94,93,98,92,90,98]\n",
    "sum=0\n",
    "for i in list1:\n",
    "    sum+=i\n",
    "print(sum)\n",
    "    "
   ]
  },
  {
   "cell_type": "markdown",
   "id": "3cfe72a9",
   "metadata": {},
   "source": [
    "# 2. Write a Python program to Multiply all numbers in the list?"
   ]
  },
  {
   "cell_type": "code",
   "execution_count": 2,
   "id": "20bc273e",
   "metadata": {},
   "outputs": [
    {
     "name": "stdout",
     "output_type": "stream",
     "text": [
      "5040\n"
     ]
    }
   ],
   "source": [
    "list2 =[2,3,4,5,6,7]\n",
    "mul=1\n",
    "for i in list2:\n",
    "    mul=mul*i\n",
    "print(mul)"
   ]
  },
  {
   "cell_type": "markdown",
   "id": "e4414004",
   "metadata": {},
   "source": [
    "# 3. Write a Python program to find smallest number in a list?"
   ]
  },
  {
   "cell_type": "code",
   "execution_count": 3,
   "id": "8bfa5dd8",
   "metadata": {},
   "outputs": [],
   "source": [
    "list3=[22,33,21,42,45,65]"
   ]
  },
  {
   "cell_type": "code",
   "execution_count": 4,
   "id": "5a064559",
   "metadata": {},
   "outputs": [
    {
     "name": "stdout",
     "output_type": "stream",
     "text": [
      "21\n"
     ]
    }
   ],
   "source": [
    "min=list3[0]\n",
    "for i in range(len(list3)):\n",
    "    if list3[i]<min:\n",
    "        min=list3[i]\n",
    "print(min)"
   ]
  },
  {
   "cell_type": "markdown",
   "id": "5a3c2921",
   "metadata": {},
   "source": [
    "# 4. Write a Python program to find largest number in a list?"
   ]
  },
  {
   "cell_type": "code",
   "execution_count": 5,
   "id": "590a0ded",
   "metadata": {},
   "outputs": [],
   "source": [
    "list4=[26,23,28,37,48,23,59,2,3,4,5]"
   ]
  },
  {
   "cell_type": "code",
   "execution_count": 6,
   "id": "d3f09059",
   "metadata": {},
   "outputs": [
    {
     "name": "stdout",
     "output_type": "stream",
     "text": [
      "59\n"
     ]
    }
   ],
   "source": [
    "max=list4[0]\n",
    "for i in range(len(list4)):\n",
    "    if list4[i]>max:\n",
    "        max=list4[i]\n",
    "print(max)"
   ]
  },
  {
   "cell_type": "markdown",
   "id": "976a31ea",
   "metadata": {},
   "source": [
    "#  5. Write a Python program to find second largest number in a list?"
   ]
  },
  {
   "cell_type": "code",
   "execution_count": 13,
   "id": "8c7a813d",
   "metadata": {},
   "outputs": [
    {
     "name": "stdout",
     "output_type": "stream",
     "text": [
      "Enter number of elements to add in list:3\n",
      "Enter elements: 1\n",
      "Before sorting the list: [1]\n",
      "------------------------------------\n",
      "Enter elements: 4\n",
      "Before sorting the list: [1, 4]\n",
      "------------------------------------\n",
      "Enter elements: 8\n",
      "Before sorting the list: [1, 4, 8]\n",
      "------------------------------------\n",
      "After sorting the list: [1, 4, 8]\n",
      "------------------------------------------\n",
      "second largest number in the list is:  4\n"
     ]
    }
   ],
   "source": [
    "l=[]\n",
    "n=int(input(\"Enter number of elements to add in list:\"))\n",
    "for i in range(1,n+1):\n",
    "    ele=int(input(\"Enter elements: \"))\n",
    "    l.append(ele)\n",
    "    print(\"Before sorting the list:\",l)\n",
    "    print(\"------------------------------------\")\n",
    "l.sort()\n",
    "print(\"After sorting the list:\",l)\n",
    "print(\"------------------------------------------\")\n",
    "print(\"second largest number in the list is: \",l[-2])"
   ]
  },
  {
   "cell_type": "markdown",
   "id": "b6579d65",
   "metadata": {},
   "source": [
    "# 6. Write a Python program to find N largest elements from a list?"
   ]
  },
  {
   "cell_type": "code",
   "execution_count": 12,
   "id": "1e38808a",
   "metadata": {},
   "outputs": [
    {
     "name": "stdout",
     "output_type": "stream",
     "text": [
      "Enter number of elements to add in list:3\n",
      "Enter elements: 1\n",
      "Enter elements: 2\n",
      "Enter elements: 3\n",
      "Enter elements: 4\n",
      "Enter elements: 5\n",
      "Enter elements: 6\n",
      "Enter the number of largest integers to be printed: 3\n",
      "[4, 5, 6]\n"
     ]
    }
   ],
   "source": [
    "l=[]\n",
    "a=int(input(\"Enter number of elements to add in list:\"))\n",
    "for i in range(1,n+1):\n",
    "    ele=int(input(\"Enter elements: \"))\n",
    "    l.append(ele)\n",
    "n=int(input(\"Enter the number of largest integers to be printed: \"))\n",
    "l.sort()\n",
    "for i in range(len(l)):\n",
    "    a=len(l)-n\n",
    "print(l[a:])"
   ]
  },
  {
   "cell_type": "markdown",
   "id": "1732b7f4",
   "metadata": {},
   "source": [
    "# 7. Write a Python program to print even numbers in a list?"
   ]
  },
  {
   "cell_type": "code",
   "execution_count": 9,
   "id": "b7e4346f",
   "metadata": {},
   "outputs": [
    {
     "name": "stdout",
     "output_type": "stream",
     "text": [
      "12\n",
      "14\n",
      "16\n",
      "18\n"
     ]
    }
   ],
   "source": [
    "list7=[12,13,14,15,16,17,18]\n",
    "for ele in list7:\n",
    "    if type(ele)==int:\n",
    "        if ele%2==0:\n",
    "            print(ele)"
   ]
  },
  {
   "cell_type": "markdown",
   "id": "27b67b73",
   "metadata": {},
   "source": [
    "# 8. Write a Python program to print odd numbers in a List?"
   ]
  },
  {
   "cell_type": "code",
   "execution_count": 10,
   "id": "d8e3e182",
   "metadata": {},
   "outputs": [
    {
     "name": "stdout",
     "output_type": "stream",
     "text": [
      "13\n",
      "15\n",
      "17\n",
      "19\n"
     ]
    }
   ],
   "source": [
    "list8=[12,13,14,15,16,17,18,19]\n",
    "for ele in list8:\n",
    "    if type(ele)==int:\n",
    "        if ele%2!=0:\n",
    "            print(ele)"
   ]
  },
  {
   "cell_type": "markdown",
   "id": "d502f993",
   "metadata": {},
   "source": [
    "# 9. Write a Python program to Remove empty List from List?"
   ]
  },
  {
   "cell_type": "code",
   "execution_count": 11,
   "id": "d366a917",
   "metadata": {},
   "outputs": [
    {
     "name": "stdout",
     "output_type": "stream",
     "text": [
      "[1, 2, 3, 4, 'Dinesh', (3+4j), 5, 3, 7]\n"
     ]
    }
   ],
   "source": [
    "list9=[1,2,3,4,\"Dinesh\",3+4j,[],5,3,7]\n",
    "l=[x for x in list9 if x]\n",
    "print(l)"
   ]
  },
  {
   "cell_type": "markdown",
   "id": "5447b515",
   "metadata": {},
   "source": [
    "# 10. Write a Python program to Cloning or Copying a list?\n"
   ]
  },
  {
   "cell_type": "code",
   "execution_count": null,
   "id": "1bea0f86",
   "metadata": {},
   "outputs": [],
   "source": [
    "def clone_list(original_list):\n",
    "    try:\n",
    "        return [element for element in original_list]\n",
    "    except TypeError:\n",
    "        raise TypeError(\"Input must be a list\")\n",
    "\n",
    "try:\n",
    "    original_list = [1, 2, 3, 4, 5]\n",
    "    cloned_list = clone_list(original_list)\n",
    "    print(\"Original List:\", original_list)\n",
    "    print(\"Cloned List:\", cloned_list)\n",
    "except TypeError as e:\n",
    "    print(\"Error:\", e)"
   ]
  },
  {
   "cell_type": "markdown",
   "id": "7e8fb9a8",
   "metadata": {},
   "source": [
    "# 11. Write a Python program to Count occurrences of an element in a list?"
   ]
  },
  {
   "cell_type": "code",
   "execution_count": null,
   "id": "ca2bba2d",
   "metadata": {},
   "outputs": [],
   "source": [
    "def count_occurrences(lst, element):\n",
    "    count = 0\n",
    "    for item in lst:\n",
    "        if item == element:\n",
    "            count += 1\n",
    "    return count\n",
    "\n",
    "my_list = [1, 2, 3, 4, 1, 2, 1, 1, 5]\n",
    "element_to_count = 1\n",
    "occurrences = count_occurrences(my_list, element_to_count)\n",
    "print(f\"The element {element_to_count} occurs {occurrences} times in the list.\")"
   ]
  }
 ],
 "metadata": {
  "kernelspec": {
   "display_name": "Python 3 (ipykernel)",
   "language": "python",
   "name": "python3"
  },
  "language_info": {
   "codemirror_mode": {
    "name": "ipython",
    "version": 3
   },
   "file_extension": ".py",
   "mimetype": "text/x-python",
   "name": "python",
   "nbconvert_exporter": "python",
   "pygments_lexer": "ipython3",
   "version": "3.10.9"
  }
 },
 "nbformat": 4,
 "nbformat_minor": 5
}
